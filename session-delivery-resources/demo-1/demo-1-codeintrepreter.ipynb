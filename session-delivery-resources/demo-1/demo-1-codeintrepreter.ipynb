{
 "cells": [
  {
   "cell_type": "markdown",
   "metadata": {},
   "source": [
    "# Code Interpreter with Azure AI Agent Service "
   ]
  },
  {
   "cell_type": "markdown",
   "metadata": {},
   "source": [
    "## Import Packages "
   ]
  },
  {
   "cell_type": "code",
   "execution_count": 1,
   "metadata": {},
   "outputs": [],
   "source": [
    "import os\n",
    "from azure.ai.projects import AIProjectClient\n",
    "from azure.ai.projects.models import CodeInterpreterTool\n",
    "from azure.identity import DefaultAzureCredential\n",
    "from typing import Any\n",
    "from pathlib import Path"
   ]
  },
  {
   "cell_type": "markdown",
   "metadata": {},
   "source": [
    "## Connecct to AI Foundry Project "
   ]
  },
  {
   "cell_type": "code",
   "execution_count": 2,
   "metadata": {},
   "outputs": [],
   "source": [
    "project_client = AIProjectClient.from_connection_string(\n",
    "    credential=DefaultAzureCredential(), conn_str=os.environ[\"PROJECT_CONNECTION_STRING\"]\n",
    ")"
   ]
  },
  {
   "cell_type": "code",
   "execution_count": 3,
   "metadata": {},
   "outputs": [
    {
     "name": "stdout",
     "output_type": "stream",
     "text": [
      "Created agent, agent ID: asst_PoVV6Gnx5sWkEijDsizdnlFr\n",
      "Created thread, thread ID: thread_nXli8scC6cEmvIHYyATiQAsP\n",
      "Created message, message ID: msg_IdoKjgmLGonwAJmmF5LNz2xk\n",
      "Run finished with status: RunStatus.COMPLETED\n",
      "Messages: {'object': 'list', 'data': [{'id': 'msg_YnnFy7sxsPK2C8BriOVuyeAL', 'object': 'thread.message', 'created_at': 1744088838, 'assistant_id': 'asst_PoVV6Gnx5sWkEijDsizdnlFr', 'thread_id': 'thread_nXli8scC6cEmvIHYyATiQAsP', 'run_id': 'run_h4Or61ohRYWeY3HYC3pMcSHo', 'role': 'assistant', 'content': [{'type': 'text', 'text': {'value': 'I have created the bar chart for the operating profit. You can download it using the link below:\\n\\n[Download Operating Profit Chart](sandbox:/mnt/data/operating_profit_chart.png)', 'annotations': [{'type': 'file_path', 'text': 'sandbox:/mnt/data/operating_profit_chart.png', 'start_index': 132, 'end_index': 176, 'file_path': {'file_id': 'assistant-P5t9x3eerSmATyz27aBqCs'}}]}}], 'attachments': [{'file_id': 'assistant-P5t9x3eerSmATyz27aBqCs', 'tools': [{'type': 'code_interpreter'}]}], 'metadata': {}}, {'id': 'msg_IdoKjgmLGonwAJmmF5LNz2xk', 'object': 'thread.message', 'created_at': 1744088831, 'assistant_id': None, 'thread_id': 'thread_nXli8scC6cEmvIHYyATiQAsP', 'run_id': None, 'role': 'user', 'content': [{'type': 'text', 'text': {'value': 'Could you please create a bar chart for the operating profit using the following data and provide the file to me? Company A: $1.2 million, Company B: $2.5 million, Company C: $3.0 million, Company D: $1.8 million', 'annotations': []}}], 'attachments': [], 'metadata': {}}], 'first_id': 'msg_YnnFy7sxsPK2C8BriOVuyeAL', 'last_id': 'msg_IdoKjgmLGonwAJmmF5LNz2xk', 'has_more': False}\n",
      "Last Message: I have created the bar chart for the operating profit. You can download it using the link below:\n",
      "\n",
      "[Download Operating Profit Chart](sandbox:/mnt/data/operating_profit_chart.png)\n",
      "File Paths:\n",
      "Type: file_path\n",
      "Text: sandbox:/mnt/data/operating_profit_chart.png\n",
      "File ID: assistant-P5t9x3eerSmATyz27aBqCs\n",
      "Start Index: 132\n",
      "End Index: 176\n",
      "Deleted agent\n"
     ]
    }
   ],
   "source": [
    "with project_client:\n",
    "    # Create an instance of the CodeInterpreterTool\n",
    "    code_interpreter = CodeInterpreterTool()\n",
    "\n",
    "    # The CodeInterpreterTool needs to be included in creation of the agent\n",
    "    agent = project_client.agents.create_agent(\n",
    "        model=\"gpt-4o-mini\",\n",
    "        name=\"my-agent\",\n",
    "        instructions=\"You are helpful agent\",\n",
    "        tools=code_interpreter.definitions,\n",
    "        tool_resources=code_interpreter.resources,\n",
    "    )\n",
    "    print(f\"Created agent, agent ID: {agent.id}\")\n",
    "\n",
    "    # Create a thread\n",
    "    thread = project_client.agents.create_thread()\n",
    "    print(f\"Created thread, thread ID: {thread.id}\")\n",
    "\n",
    "    # Create a message\n",
    "    message = project_client.agents.create_message(\n",
    "        thread_id=thread.id,\n",
    "        role=\"user\",\n",
    "        content=\"Could you please create a bar chart for the operating profit using the following data and provide the file to me? Company A: $1.2 million, Company B: $2.5 million, Company C: $3.0 million, Company D: $1.8 million\",\n",
    "    )\n",
    "    print(f\"Created message, message ID: {message.id}\")\n",
    "\n",
    "    # Run the agent\n",
    "    run = project_client.agents.create_and_process_run(\n",
    "        thread_id=thread.id, agent_id=agent.id)\n",
    "    print(f\"Run finished with status: {run.status}\")\n",
    "\n",
    "    if run.status == \"failed\":\n",
    "        # Check if you got \"Rate limit is exceeded.\", then you want to get more quota\n",
    "        print(f\"Run failed: {run.last_error}\")\n",
    "\n",
    "    # Get messages from the thread\n",
    "    messages = project_client.agents.list_messages(thread_id=thread.id)\n",
    "    print(f\"Messages: {messages}\")\n",
    "\n",
    "    # Get the last message from the sender\n",
    "\n",
    "    assistant_messages = [msg for msg in messages[\"data\"] if msg[\"role\"] == \"assistant\"]\n",
    "    if assistant_messages:\n",
    "        last_msg = assistant_messages[-1]  # Get the Last message\n",
    "        if \"content\" in last_msg and last_msg[\"content\"]:\n",
    "            if \"text\" in last_msg[\"content\"][0]:\n",
    "                print(f\"Last Message: {last_msg['content'][0]['text']['value']}\")\n",
    "            else:\n",
    "                print(\"❌ 'text' key not found in the content.\")\n",
    "        else:\n",
    "            print(\"❌ No content found in the last message.\")\n",
    "    else:\n",
    "        print(\"❌ No assistant messages found.\")\n",
    "    \n",
    "    # Generate an image file for the bar chart\n",
    "    for image_content in messages.image_contents:\n",
    "        print(f\"Image File ID: {image_content.image_file.file_id}\")\n",
    "        file_name = f\"{image_content.image_file.file_id}_image_file.png\"\n",
    "        project_client.agents.save_file(\n",
    "            file_id=image_content.image_file.file_id, file_name=file_name)\n",
    "        print(f\"Saved image file to: {Path.cwd() / file_name}\")\n",
    "\n",
    "    # Print the file path(s) from the messages\n",
    "    for file_path_annotation in messages.file_path_annotations:\n",
    "        print(f\"File Paths:\")\n",
    "        print(f\"Type: {file_path_annotation.type}\")\n",
    "        print(f\"Text: {file_path_annotation.text}\")\n",
    "        print(f\"File ID: {file_path_annotation.file_path.file_id}\")\n",
    "        print(f\"Start Index: {file_path_annotation.start_index}\")\n",
    "        print(f\"End Index: {file_path_annotation.end_index}\")\n",
    "        project_client.agents.save_file(\n",
    "            file_id=file_path_annotation.file_path.file_id, file_name=Path(file_path_annotation.text).name)\n",
    "\n",
    "    # Delete the agent once done\n",
    "    project_client.agents.delete_agent(agent.id)\n",
    "    print(\"Deleted agent\")"
   ]
  },
  {
   "cell_type": "code",
   "execution_count": null,
   "metadata": {},
   "outputs": [],
   "source": []
  }
 ],
 "metadata": {
  "kernelspec": {
   "display_name": "Python 3",
   "language": "python",
   "name": "python3"
  },
  "language_info": {
   "codemirror_mode": {
    "name": "ipython",
    "version": 3
   },
   "file_extension": ".py",
   "mimetype": "text/x-python",
   "name": "python",
   "nbconvert_exporter": "python",
   "pygments_lexer": "ipython3",
   "version": "3.11.11"
  }
 },
 "nbformat": 4,
 "nbformat_minor": 2
}
